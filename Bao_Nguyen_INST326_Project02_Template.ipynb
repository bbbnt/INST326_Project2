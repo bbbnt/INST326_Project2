{
 "cells": [
  {
   "cell_type": "markdown",
   "id": "bc00dbc1",
   "metadata": {},
   "source": [
    "### Project 02: Create a GUI Notebook Program"
   ]
  },
  {
   "cell_type": "markdown",
   "id": "b3f87ffb",
   "metadata": {},
   "source": [
    "Bao Nguyen - 3/31/2024"
   ]
  },
  {
   "cell_type": "markdown",
   "id": "62110c98",
   "metadata": {},
   "source": [
    "Project 2 will adapt the procedural code we have been working on in INST326_SimpleGUI_Note_Form_IO.ipynb to create an OOP version of the program using three classes.\n",
    "\n",
    "    A Notebook or MainWindow class\n",
    "    A Form or TopWindow class\n",
    "    A Note class\n",
    "\n",
    "The MainWindow class is a subclass of Tkinter’s tk.Tk class and thus inherits its attributes and methods, while allowing us to customize the new window objects to our needs. These new window objects will represent “notebooks” or collections of notes, and allow us to work with those notes. (I have named it MainWindow because this class definition could be used to create any kind of main window in Tkinter. We are using it to represent notebooks in this application, but you might use it for other purposes in onther applications.)\n"
   ]
  },
  {
   "cell_type": "markdown",
   "id": "67692272",
   "metadata": {},
   "source": [
    "The TopWindow class creates a new top window in Tkinter, which is essentially a form for entering the title, text, links, and tags for our note. When we submit the note, this “form” object has a method that creates the note’s metadata and a new Note object. That note object is appended to the list of all notes, which is an attribute of the notebook (MainWindow) class.\n",
    "The Note class creates note objects that contain the  title, text, links, tags, and metadata for each note.\n",
    "\n",
    "For Project 02 you will:  \n",
    "\n",
    "    1. Create one notebook or MainWindow object  \n",
    "    2. Create several (at least 3) ‘real’ notes for your final submission. By ‘real’ I mean actual notes about python that are useful to you. Print them in the cell at the bottom of the notebook.\n",
    "    3. Save those notes to a single .txt, .csv, or .json file (your choice of format).  \n",
    "    4. Retrieve those notes and \n",
    "    5. Display representations of them as either labels or buttons in the  main window (remember how we displayed cards in project 01). These representations are not whole notes. Rather, they are object representations of the notes.  \n",
    "    6. When they are clicked the whole note pops up in a new window - either the form window or a ‘read-only’ version of the form window.\n",
    "\n"
   ]
  },
  {
   "cell_type": "markdown",
   "id": "cd7630c0",
   "metadata": {},
   "source": [
    "#### Complete your code in the cell below"
   ]
  },
  {
   "cell_type": "markdown",
   "id": "50f0a965",
   "metadata": {},
   "source": [
    "The code cell below contains the imports you will need; the top level structure for the three classes to get you started; and the execution code at the bottom. "
   ]
  },
  {
   "cell_type": "code",
   "execution_count": 2,
   "id": "57954c28",
   "metadata": {},
   "outputs": [],
   "source": [
    "import tkinter as tk\n",
    "from tkinter import ttk\n",
    "import tkinter.filedialog\n",
    "import datetime\n",
    "import json\n",
    "\n",
    "class MainWindow(tk.Tk):\n",
    "    def __init__(self):\n",
    "        super().__init__()\n",
    "        self.geometry(\"600x400\")\n",
    "        self.title('Notebook')\n",
    "        self.notebook = []\n",
    "\n",
    "        # Buttons for new note, open, and save\n",
    "        new_button = ttk.Button(self, text=\"New\", command=self.new_note)\n",
    "        new_button.pack(side=tk.LEFT, padx=5, pady=5)\n",
    "\n",
    "        open_button = ttk.Button(self, text=\"Open\", command=self.open_notebook_dialog)\n",
    "        open_button.pack(side=tk.LEFT, padx=5, pady=5)\n",
    "\n",
    "        save_button = ttk.Button(self, text=\"Save\", command=self.save_notebook_dialog)\n",
    "        save_button.pack(side=tk.LEFT, padx=5, pady=5)\n",
    "\n",
    "    def new_note(self):\n",
    "        note_window = NoteForm(self, self.notebook)\n",
    "        note_window.grab_set()\n",
    "\n",
    "    def open_notebook_dialog(self):\n",
    "        filename = tkinter.filedialog.askopenfilename(title=\"Open Notebook\", filetypes=[(\"JSON files\", \"*.json\")])\n",
    "        if filename:\n",
    "            self.load_notes(filename)\n",
    "\n",
    "    def save_notebook_dialog(self):\n",
    "        filename = tkinter.filedialog.asksaveasfilename(title=\"Save Notebook\", defaultextension=\".json\", filetypes=[(\"JSON files\", \"*.json\")])\n",
    "        if filename:\n",
    "            self.save_notes(filename)\n",
    "\n",
    "    def load_notes(self, filename):\n",
    "        try:\n",
    "            with open(filename, 'r') as file:\n",
    "                self.notebook = json.load(file, object_hook=lambda d: MakeNote(**d))\n",
    "            print(\"Notebook loaded successfully.\")\n",
    "        except FileNotFoundError:\n",
    "            print(f\"Error: Notebook '{filename}' not found.\")\n",
    "        except json.JSONDecodeError:\n",
    "            print(\"Error: Failed to decode JSON.\")\n",
    "\n",
    "    def save_notes(self, filename):\n",
    "        try:\n",
    "            with open(filename, 'w') as file:\n",
    "                json.dump(self.notebook, file, indent=4, default=lambda obj: obj.__dict__)\n",
    "            print(\"Notebook saved successfully.\")\n",
    "        except Exception as e:\n",
    "            print(f\"Error saving notebook: {e}\")\n",
    "\n",
    "    def display_notes(self):\n",
    "        print(\"Notes:\")\n",
    "        for note in self.notebook:\n",
    "            print(f\"Title: {note.title}\")\n",
    "            print(f\"Text: {note.text}\")\n",
    "            print(f\"Link: {note.link}\")\n",
    "            print(f\"Tags: {note.tags}\")\n",
    "            print(f\"Date Created: {note.date_created}\")\n",
    "            print()\n",
    "            \n",
    "class NoteForm(tk.Toplevel):\n",
    "    def __init__(self, master, notebook):\n",
    "        super().__init__(master)\n",
    "        self.title(\"New Note\")\n",
    "        self.notebook = notebook\n",
    "\n",
    "        # Note attributes form\n",
    "        self.title_label = ttk.Label(self, text=\"Title:\")\n",
    "        self.title_label.grid(row=0, column=0, padx=5, pady=5)\n",
    "        self.title_entry = ttk.Entry(self)\n",
    "        self.title_entry.grid(row=0, column=1, padx=5, pady=5)\n",
    "\n",
    "        self.text_label = ttk.Label(self, text=\"Text:\")\n",
    "        self.text_label.grid(row=1, column=0, padx=5, pady=5)\n",
    "        self.text_entry = ttk.Entry(self)\n",
    "        self.text_entry.grid(row=1, column=1, padx=5, pady=5)\n",
    "\n",
    "        self.link_label = ttk.Label(self, text=\"Link:\")\n",
    "        self.link_label.grid(row=2, column=0, padx=5, pady=5)\n",
    "        self.link_entry = ttk.Entry(self)\n",
    "        self.link_entry.grid(row=2, column=1, padx=5, pady=5)\n",
    "\n",
    "        self.tags_label = ttk.Label(self, text=\"Tags:\")\n",
    "        self.tags_label.grid(row=3, column=0, padx=5, pady=5)\n",
    "        self.tags_entry = ttk.Entry(self)\n",
    "        self.tags_entry.grid(row=3, column=1, padx=5, pady=5)\n",
    "\n",
    "        self.submit_button = ttk.Button(self, text=\"Submit\", command=self.submit)\n",
    "        self.submit_button.grid(row=4, columnspan=2, padx=5, pady=5)\n",
    "        \n",
    "    def submit(self):\n",
    "        try:\n",
    "            note_dict = {\n",
    "                \"title\": self.title_entry.get(),\n",
    "                \"text\": self.text_entry.get(),\n",
    "                \"link\": self.link_entry.get(),\n",
    "                \"tags\": self.tags_entry.get(),\n",
    "                \"date_created\": datetime.datetime.now().strftime(\"%Y-%m-%d %H:%M:%S\")\n",
    "            }\n",
    "            new_note = MakeNote(**note_dict)\n",
    "            self.notebook.append(new_note)\n",
    "            self.master.display_notes()  # Update the displayed notes\n",
    "            self.destroy()\n",
    "        except Exception as e:\n",
    "            print(f\"Error submitting note: {e}\")\n",
    "\n",
    "class MakeNote:\n",
    "    def __init__(self, title, text, link, tags, date_created):\n",
    "        self.title = title\n",
    "        self.text = text\n",
    "        self.link = link\n",
    "        self.tags = tags\n",
    "        self.date_created = date_created\n",
    "\n",
    "if __name__ == '__main__':\n",
    "    main_window = MainWindow()\n",
    "    main_window.mainloop()\n"
   ]
  },
  {
   "cell_type": "markdown",
   "id": "c50d5149",
   "metadata": {},
   "source": [
    "#### Print your three notes below"
   ]
  },
  {
   "cell_type": "code",
   "execution_count": 43,
   "id": "dd1811bf",
   "metadata": {},
   "outputs": [
    {
     "name": "stdout",
     "output_type": "stream",
     "text": [
      "Notes:\n",
      "Title: Data Structures in Python\n",
      "Text: Python provides built-in data structures such as lists, tuples, dictionaries, and sets. These data structures can be used to organize and manipulate data efficiently\n",
      "Link: https://realpython.com/python-data-structures/\n",
      "Tags: Python, Data Structures\n",
      "Date Created: 2024-03-31 22:40:13\n",
      "\n",
      "Title: Python Basics\n",
      "Text: Python is a high-level, interpreted programming language. It is known for its simplicity and readability\n",
      "Link: https://www.python.org/\n",
      "Tags: Python, Programming, Basics\n",
      "Date Created: 2024-03-31 22:41:08\n",
      "\n",
      "Title: Python File Handling\n",
      "Text: Python allows file handling operations such as reading from files, writing to files, and appending to files using built-in functions.\n",
      "Link: https://www.geeksforgeeks.org/file-handling-python/\n",
      "Tags: Python, File Handling, Programming\n",
      "Date Created: 2024-03-31 22:41:55\n",
      "\n"
     ]
    }
   ],
   "source": [
    "main_window.display_notes()"
   ]
  },
  {
   "cell_type": "code",
   "execution_count": null,
   "id": "447f6401-80c9-462b-97a2-b84247570632",
   "metadata": {},
   "outputs": [],
   "source": []
  }
 ],
 "metadata": {
  "kernelspec": {
   "display_name": "Python 3 (ipykernel)",
   "language": "python",
   "name": "python3"
  },
  "language_info": {
   "codemirror_mode": {
    "name": "ipython",
    "version": 3
   },
   "file_extension": ".py",
   "mimetype": "text/x-python",
   "name": "python",
   "nbconvert_exporter": "python",
   "pygments_lexer": "ipython3",
   "version": "3.12.1"
  }
 },
 "nbformat": 4,
 "nbformat_minor": 5
}
